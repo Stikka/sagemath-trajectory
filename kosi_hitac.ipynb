{
 "cells": [
  {
   "cell_type": "code",
   "execution_count": 1,
   "metadata": {},
   "outputs": [],
   "source": [
    "#Nastassia Sekulic\n",
    "%display latex"
   ]
  },
  {
   "cell_type": "markdown",
   "metadata": {},
   "source": [
    "<p style=\"text-align: center;\"><span style=\"font-size: large;\"><strong>KOSI HITAC</strong></span><strong><span style=\"font-size: medium;\"><br /></span></strong><strong></strong></p>\n",
    "<p style=\"text-align: center;\"><strong><span style=\"font-size: medium;\"><br /></span></strong></p>\n",
    "<p><strong><span style=\"font-size: medium;\">Zadatak 1. Rije&scaron;ite simbolički (desolve_system()) Newtonove diferencijalne jednadžbe za kosi hitac tijela jedinične mase i nacrtajte putanju tijela za neke početne uvjete. </span></strong><br /><strong><span style=\"font-size: medium;\">Naputak: Gibanje je u dvije dimenzije. U y-smjeru ubrzanje je konstantno i iznosi y''=-10, dok je u x-smjeru ubrzanje nula.</span></strong></p>\n",
    "<p><strong><span style=\"font-size: medium;\">Rje&scaron;enje:<br /></span></strong></p>\n",
    "\n",
    "<p>Newtonove diferencijalne jednadžbe su jednadžbe drugog reda. Da bi se mogle rije&scaron;iti simbolički pomoću funkcije desolve_system(), potrebno je jednadžbu drugog reda pretvoriti u dvije jednadžbe prvog reda. Zbog toga ovdje&nbsp;možemo vidjeti četiri jednadžbe prvog reda jer imamo ubrzanje u x i y smjeru za koje vrijedi: <strong>ax = dx<sup><span style=\"font-size: x-small;\">2</span></sup>(t)/dt<sup><span style=\"font-size: x-small;\">2</span></sup> = dvx(t)/dt = 0,&nbsp;ay = dy<sup><span style=\"font-size: x-small;\">2</span></sup>(t)/dt<sup><span style=\"font-size: x-small;\">2</span></sup> =&nbsp;dvy(t)/dt&nbsp;= - g</strong>; (g= 9.81 m/s<sup><span style=\"font-size: x-small;\">2</span></sup>). Kada smo ih definirali, možemo koristiti desolve_system().</p>"
   ]
  },
  {
   "cell_type": "code",
   "execution_count": 2,
   "metadata": {},
   "outputs": [
    {
     "data": {
      "text/html": [
       "<html><script type=\"math/tex; mode=display\">\\newcommand{\\Bold}[1]{\\mathbf{#1}}\\left[x\\left(t\\right) = t {\\rm vx}\\left(0\\right) + x\\left(0\\right), y\\left(t\\right) = -5 \\, t^{2} + t {\\rm vy}\\left(0\\right) + y\\left(0\\right), {\\rm vx}\\left(t\\right) = {\\rm vx}\\left(0\\right), {\\rm vy}\\left(t\\right) = -10 \\, t + {\\rm vy}\\left(0\\right)\\right]</script></html>"
      ],
      "text/plain": [
       "[x(t) == t*vx(0) + x(0),\n",
       " y(t) == -5*t^2 + t*vy(0) + y(0),\n",
       " vx(t) == vx(0),\n",
       " vy(t) == -10*t + vy(0)]"
      ]
     },
     "execution_count": 2,
     "metadata": {},
     "output_type": "execute_result"
    }
   ],
   "source": [
    "t = var('t')\n",
    "x = function('x')(t)\n",
    "y = function('y')(t)\n",
    "vx = function('vx')(t)\n",
    "vy = function('vy')(t)\n",
    "de1 = diff(x,t) == vx\n",
    "de2 = diff(y,t) == vy\n",
    "de3 = diff(vx,t) == 0\n",
    "de4 = diff(vy,t) == -10\n",
    "desolve_system([de1, de2, de3, de4], [x,y,vx,vy])"
   ]
  },
  {
   "cell_type": "markdown",
   "metadata": {},
   "source": [
    "<p>Vidimo nepoznate varijable koje su početni uvjeti putanje tijela jedinične mase. U sljedećem dijelu definiramo iznose tih uvjeta.</p>\n",
    "<p><strong>vx(0)=4, vy(0)=5, x(0)=0, y(0)=0</strong></p>"
   ]
  },
  {
   "cell_type": "code",
   "execution_count": 3,
   "metadata": {},
   "outputs": [
    {
     "data": {
      "text/html": [
       "<html><script type=\"math/tex; mode=display\">\\newcommand{\\Bold}[1]{\\mathbf{#1}}\\left[x\\left(t\\right) = 4 \\, t, y\\left(t\\right) = -5 \\, t^{2} + 5 \\, t, {\\rm vx}\\left(t\\right) = 4, {\\rm vy}\\left(t\\right) = -10 \\, t + 5\\right]</script></html>"
      ],
      "text/plain": [
       "[x(t) == 4*t, y(t) == -5*t^2 + 5*t, vx(t) == 4, vy(t) == -10*t + 5]"
      ]
     },
     "execution_count": 3,
     "metadata": {},
     "output_type": "execute_result"
    }
   ],
   "source": [
    "sol = desolve_system([de1, de2, de3, de4], [x,y,vx,vy], ics=[0,0,0,4,5]); sol"
   ]
  },
  {
   "cell_type": "markdown",
   "metadata": {},
   "source": [
    "<p>Uzet ćemo rje&scaron;enja x(t) i y(t) kako bi nacrtali putanju tijela.</p>"
   ]
  },
  {
   "cell_type": "code",
   "execution_count": 4,
   "metadata": {},
   "outputs": [],
   "source": [
    "solnx, solny = sol[0].rhs(), sol[1].rhs()"
   ]
  },
  {
   "cell_type": "markdown",
   "metadata": {},
   "source": [
    "<p>Imamo putanju tijela gdje je na horizontali x, odnosno domet tijela, a na vertikali y, odnosno visina koju tijelo doseže u svojem gibanju.</p>"
   ]
  },
  {
   "cell_type": "code",
   "execution_count": 5,
   "metadata": {},
   "outputs": [
    {
     "data": {
      "image/png": "[encoded data removed]",
      "text/plain": [
       "Graphics object consisting of 1 graphics primitive"
      ]
     },
     "execution_count": 5,
     "metadata": {},
     "output_type": "execute_result"
    }
   ],
   "source": [
    "parametric_plot((solnx,solny),(0,1), color='green')"
   ]
  },
  {
   "cell_type": "markdown",
   "metadata": {},
   "source": [
    "<p><span style=\"font-size: medium;\"><strong><br /></strong></span></p>\n",
    "<p><span style=\"font-size: medium;\"><strong>Zadatak 2. Odredite (rje&scaron;avanjem odgovarajuće jednadžbe u Sage-u) trenutak tmax u kojem tijelo udara u podlogu (tad je y=0) i nacrtajte putanju točno do tog trenutka.</strong></span></p>\n",
    "<p><span style=\"font-size: medium;\"><strong>Rje&scaron;enje:<br /></strong></span></p>"
   ]
  },
  {
   "cell_type": "code",
   "execution_count": 6,
   "metadata": {},
   "outputs": [],
   "source": [
    "tmax = var('tmax')"
   ]
  },
  {
   "cell_type": "markdown",
   "metadata": {},
   "source": [
    "<p>Znajući da u trenutku tmax tijelo udara u podlogu, odnosno da mu je visina jednaka nuli, a domet maksimalan, u jednadžbi&nbsp;y(t) = -5*t^2 + t*vy(0) + y(0) stavimo da je y(t) jednak nuli. Tako dobivamo trenutak tmax.</p>"
   ]
  },
  {
   "cell_type": "code",
   "execution_count": 7,
   "metadata": {},
   "outputs": [
    {
     "data": {
      "text/html": [
       "<html><script type=\"math/tex; mode=display\">\\newcommand{\\Bold}[1]{\\mathbf{#1}}\\left[\\mathit{tmax} = -\\frac{1}{10} \\, \\sqrt{{\\rm vy}\\left(0\\right)^{2} + 20 \\, y\\left(0\\right)} + \\frac{1}{10} \\, {\\rm vy}\\left(0\\right), \\mathit{tmax} = \\frac{1}{10} \\, \\sqrt{{\\rm vy}\\left(0\\right)^{2} + 20 \\, y\\left(0\\right)} + \\frac{1}{10} \\, {\\rm vy}\\left(0\\right)\\right]</script></html>"
      ],
      "text/plain": [
       "[tmax == -1/10*sqrt(vy(0)^2 + 20*y(0)) + 1/10*vy(0), tmax == 1/10*sqrt(vy(0)^2 + 20*y(0)) + 1/10*vy(0)]"
      ]
     },
     "execution_count": 7,
     "metadata": {},
     "output_type": "execute_result"
    }
   ],
   "source": [
    "sol1 = solve(-5*tmax^2 + tmax*vy(0) + y(0) == 0, tmax); sol1"
   ]
  },
  {
   "cell_type": "markdown",
   "metadata": {},
   "source": [
    "<p>Dobivaju se dva rje&scaron;enja, ali mi uzimamo samo pozitivno rje&scaron;enje jer vrijeme je uvijek pozitivno, osim ako se drugačije ne odredi.</p>"
   ]
  },
  {
   "cell_type": "code",
   "execution_count": 8,
   "metadata": {},
   "outputs": [],
   "source": [
    "tmax=sol1[1].rhs()"
   ]
  },
  {
   "cell_type": "markdown",
   "metadata": {},
   "source": [
    "<p>U jednadžbu x(t) = t*vx(0) + x(0) ubacimo&nbsp;umjesto t vrijednost tmax te stavimo,&nbsp;kao u prvom dijelu zadatka,<strong> vy(0)=5, y(0)=0 </strong>kako bi dobili x(tmax), odnosno maksimalan domet u trenutku tmax.</p>"
   ]
  },
  {
   "cell_type": "code",
   "execution_count": 9,
   "metadata": {},
   "outputs": [
    {
     "data": {
      "text/html": [
       "<html><script type=\"math/tex; mode=display\">\\newcommand{\\Bold}[1]{\\mathbf{#1}}4</script></html>"
      ],
      "text/plain": [
       "4"
      ]
     },
     "execution_count": 9,
     "metadata": {},
     "output_type": "execute_result"
    }
   ],
   "source": [
    "sol1nx=4*tmax.subs(vy(0)==5).subs(y(0)==0); sol1nx"
   ]
  },
  {
   "cell_type": "markdown",
   "metadata": {},
   "source": [
    "<p>Koristimo isti crtež kao u prvom dijelu zadatka, ali dodajemo točku x(tmax) kako bi pokazali da su na&scaron;i izračuni valjani.</p>"
   ]
  },
  {
   "cell_type": "code",
   "execution_count": 10,
   "metadata": {},
   "outputs": [
    {
     "data": {
      "image/png": "[encoded data removed]",
      "text/plain": [
       "Graphics object consisting of 2 graphics primitives"
      ]
     },
     "execution_count": 10,
     "metadata": {},
     "output_type": "execute_result"
    }
   ],
   "source": [
    "parametric_plot((solnx,solny),(0,1), linestyle='--') + list_plot([[sol1nx,0]],pointsize=40, color='red')"
   ]
  },
  {
   "cell_type": "markdown",
   "metadata": {},
   "source": [
    "<p><strong><span style=\"font-size: medium;\"><br /></span></strong></p>\n",
    "<p><strong><span style=\"font-size: medium;\">Zadatak 3. Isprogramirajte funkciju plot_hitac(vx0, vy0) koja crta tu putanju za početne uvjete x=0, y=10, vx=vx0, vy=vy0.</span></strong></p>\n",
    "<p><strong><span style=\"font-size: medium;\">Rje&scaron;enje:<br /></span></strong></p>"
   ]
  },
  {
   "cell_type": "code",
   "execution_count": 11,
   "metadata": {},
   "outputs": [
    {
     "data": {
      "text/html": [
       "<html><script type=\"math/tex; mode=display\">\\newcommand{\\Bold}[1]{\\mathbf{#1}}\\left(\\mathit{vx}_{0}, \\mathit{vy}_{0}\\right)</script></html>"
      ],
      "text/plain": [
       "(vx0, vy0)"
      ]
     },
     "execution_count": 11,
     "metadata": {},
     "output_type": "execute_result"
    }
   ],
   "source": [
    "var('vx0,vy0')"
   ]
  },
  {
   "cell_type": "markdown",
   "metadata": {},
   "source": [
    "<p>Slično kao i prije, samo &scaron;to je ovdje definirana funkcija plot_hitac koja za argumente ostavlja vx0 i vy0 koji će se kasnije proizvoljno&nbsp;odrediti, a unaprijed su definirani <strong>x(0)=0, y(0)=10.</strong></p>"
   ]
  },
  {
   "cell_type": "code",
   "execution_count": 12,
   "metadata": {},
   "outputs": [],
   "source": [
    "def plot_hitac(vx0,vy0):\n",
    "    rez = desolve_system([de1, de2 ,de3, de4], [x,y,vx,vy], ics=[0,0,10,vx0,vy0])\n",
    "    rezx, rezy = rez[0].rhs(), rez[1].rhs()\n",
    "    return parametric_plot((rezx, rezy), (0,2), color='purple')"
   ]
  },
  {
   "cell_type": "markdown",
   "metadata": {},
   "source": [
    "<p>Putanja gibanja tijela sa proizvoljnim uvjetima. U ovom slučaju su uvjeti:&nbsp;<strong>vx(0)=4, vy(0)=5.</strong></p>"
   ]
  },
  {
   "cell_type": "code",
   "execution_count": 13,
   "metadata": {},
   "outputs": [
    {
     "data": {
      "image/png": "[encoded data removed]",
      "text/plain": [
       "Graphics object consisting of 1 graphics primitive"
      ]
     },
     "execution_count": 13,
     "metadata": {},
     "output_type": "execute_result"
    }
   ],
   "source": [
    "plot_hitac(4,5)"
   ]
  },
  {
   "cell_type": "markdown",
   "metadata": {},
   "source": [
    "<p><strong><span style=\"font-size: medium;\"><br /></span></strong></p>\n",
    "<p><strong><span style=\"font-size: medium;\">Zadatak 4. Upoznajte se s Sage komandom (\"dekoratorom\") @interact i isprogramirajte ćeliju gdje će se pomoću klizača namje&scaron;tati početni uvjeti vx0 i vy0.</span></strong></p>\n",
    "<p><strong><span style=\"font-size: medium;\">Rje&scaron;enje:<br /></span></strong></p>\n",
    "\n",
    "<p>Koristimo funkciju kao iz prethodnog dijela, sa ne&scaron;to izmjenjenim kodom kako bi odgovarao kodu koji se koristi za Sage komandu @interact. Također koristimo proizvoljne uvjete za vx0 i vy0. Kako biste ih mogli unijeti, morate izvr&scaron;iti cijeli dokument.</p>"
   ]
  },
  {
   "cell_type": "code",
   "execution_count": 14,
   "metadata": {},
   "outputs": [
    {
     "data": {
      "application/vnd.jupyter.widget-view+json": {
       "model_id": "5612ff70721a4a2daa2943385744f1a8",
       "version_major": 2,
       "version_minor": 0
      },
      "text/plain": [
       "Interactive function <function _ at 0x6fd7163c2f0> with 2 widgets\n",
       "  vx0: IntSlider(value=5, description='vx0',…"
      ]
     },
     "metadata": {},
     "output_type": "display_data"
    }
   ],
   "source": [
    "@interact\n",
    "def _(vx0=(0,10), vy0=(0,10)):\n",
    "    rez = desolve_system([de1, de2 ,de3, de4], [x,y,vx,vy], ics=[0,0,10,vx0,vy0])\n",
    "    rezx, rezy = rez[0].rhs(), rez[1].rhs()\n",
    "    show(parametric_plot((rezx, rezy), (0,2), color='red'))"
   ]
  }
 ],
 "metadata": {
  "kernelspec": {
   "display_name": "SageMath 9.0",
   "language": "sage",
   "name": "sagemath"
  },
  "language_info": {
   "codemirror_mode": {
    "name": "ipython",
    "version": 3
   },
   "file_extension": ".py",
   "mimetype": "text/x-python",
   "name": "python",
   "nbconvert_exporter": "python",
   "pygments_lexer": "ipython3",
   "version": "3.7.3"
  }
 },
 "nbformat": 4,
 "nbformat_minor": 1
}
